{
 "cells": [
  {
   "cell_type": "code",
   "execution_count": 1,
   "id": "7c539b53-acad-4fcd-95fd-95590f7f06b0",
   "metadata": {},
   "outputs": [],
   "source": [
    "import csv\n",
    "import json"
   ]
  },
  {
   "cell_type": "code",
   "execution_count": 2,
   "id": "34141570-15d3-40bd-bb17-3f2d161994f5",
   "metadata": {},
   "outputs": [],
   "source": [
    "csvfile = open('ORA_dataset.csv', 'r', encoding='utf-8')\n",
    "jsonfile = open('ORA_dataset.json', 'w', encoding='utf-8')\n",
    "\n",
    "fieldnames = (\"UniID\",\"Phase\",\"Category\",\"Description\",\"Doc Status\",\"Doc Ref\")\n",
    "reader = csv.DictReader(csvfile, fieldnames)\n",
    "for row in reader:\n",
    "    json.dump(row, jsonfile)\n",
    "    jsonfile.write('\\n')"
   ]
  },
  {
   "cell_type": "code",
   "execution_count": null,
   "id": "5c082b43-4d63-499a-a951-90cf5ea66c7f",
   "metadata": {},
   "outputs": [],
   "source": []
  }
 ],
 "metadata": {
  "kernelspec": {
   "display_name": "Python 3",
   "language": "python",
   "name": "python3"
  },
  "language_info": {
   "codemirror_mode": {
    "name": "ipython",
    "version": 3
   },
   "file_extension": ".py",
   "mimetype": "text/x-python",
   "name": "python",
   "nbconvert_exporter": "python",
   "pygments_lexer": "ipython3",
   "version": "3.8.11"
  }
 },
 "nbformat": 4,
 "nbformat_minor": 5
}
